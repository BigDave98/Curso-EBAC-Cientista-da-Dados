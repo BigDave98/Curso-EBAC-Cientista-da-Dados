{
 "cells": [
  {
   "cell_type": "markdown",
   "id": "a6bcd1be",
   "metadata": {},
   "source": [
    "# 01 - Teste de gravidez\n",
    "Escreva uma célula com controle de fluxos que tem como premissa a existência das seguintes variáveis:\n",
    "\n",
    "sexo como str indicando os valores 'M' para masculino e 'F' para feminino\n",
    "beta_hcg que indica a quantidade do beta-HCG no sangue em mUI/mL.\n",
    "A sua tarefa é escrever um código que imprima como resultado \"indivíduo do sexo masculino\" quando sexo = 'M', caso sexo = 'F', se o valor de beta-HCG for maior que 5, retorne \"Positivo\" indicando que a paciente está grávida, e retorne \"Negativo\" caso contrário.\n",
    "\n",
    "Não mexa nos valores da variável sexo nem em beta_hcg, e escreva um código que funcione para quaisquer valores possíveis de ambos: sexo = 'M' ou 'F' e beta_hcg assumindo valores inteiros positivos.\n",
    "\n",
    "\n",
    "\n"
   ]
  },
  {
   "cell_type": "code",
   "execution_count": 9,
   "id": "db3dc5b1",
   "metadata": {},
   "outputs": [
    {
     "name": "stdout",
     "output_type": "stream",
     "text": [
      "Digite seu sexo(M ou F)-1\n",
      "?\n"
     ]
    }
   ],
   "source": [
    "sexo= str(input('Digite seu sexo(M ou F)'))\n",
    "sexo = sexo.upper()\n",
    "if sexo != 'M' and sexo != 'F':\n",
    "    print('?')\n",
    "elif sexo == 'M':     \n",
    "    print(\"indivíduo do sexo masculino\")\n",
    "else:\n",
    "    bHCG= float(input('Valor beta-HCG'))\n",
    "    if bHCG >= 5:\n",
    "        print(\"Positivo, voce está grávida\")\n",
    "    elif bHCG >= 0 and bHCG < 5:\n",
    "        print('Negativo, voce nao está grávida')"
   ]
  },
  {
   "cell_type": "markdown",
   "id": "02b101a2",
   "metadata": {},
   "source": [
    "# 02 - Renomeando variáveis\n",
    "Vamos ver adiante que uma forma de renomear variáveis de um conjunto de dados é através de dicionários - o dicionário deve conter como chave o nome original, associando a cada chave um único valor (tipo str) que contenha o nome novo.\n",
    "\n",
    "A sua tarefa é escrever um dicionário que possa ser utilizado para traduzir as variáveis name (nome), age (idade) e income (renda). Ou seja, esse dicionário deve relacionar as chaves name, age e income às suas respectivas traduções."
   ]
  },
  {
   "cell_type": "code",
   "execution_count": 13,
   "id": "da9817f2",
   "metadata": {},
   "outputs": [
    {
     "name": "stdout",
     "output_type": "stream",
     "text": [
      "nome\n",
      "idade\n",
      "renda\n"
     ]
    }
   ],
   "source": [
    "dic_renomeacao={'name': 'nome', 'age':'idade', 'income': 'renda'}\n",
    "print(dic_renomeacao['name'])\n",
    "print(dic_renomeacao['age'])\n",
    "print(dic_renomeacao['income'])"
   ]
  },
  {
   "cell_type": "markdown",
   "id": "359aae45",
   "metadata": {},
   "source": [
    "# 03 - É divisível?\n",
    "A sua tarefa é escrever um código que indique se um número N é divisível por um número P. Escreva um programa que faça essa verificação para quaisquer combinações de N e M e devolva uma mensagem indicativa no output."
   ]
  },
  {
   "cell_type": "code",
   "execution_count": 22,
   "id": "7e036886",
   "metadata": {},
   "outputs": [
    {
     "name": "stdout",
     "output_type": "stream",
     "text": [
      "Valor de n: 5468421895\n",
      "Valor de m: 2\n",
      "n nao e divisivel por m, resto =  1.0\n",
      "m/n entre 0 e 1\n"
     ]
    }
   ],
   "source": [
    "n=float(input('Valor de n: '))\n",
    "m=float(input('Valor de m: '))\n",
    "x= n%m\n",
    "y= m%n\n",
    "if n >= m:\n",
    "    if x == 0:\n",
    "        print('n e divisvel por m')\n",
    "    else:\n",
    "        print('n nao e divisivel por m, resto = ', x)\n",
    "    print('m/n entre 0 e 1')\n",
    "elif n <= m:\n",
    "    \n",
    "    if y==0:\n",
    "        print('m e divisvel por n')\n",
    "    else:\n",
    "        print('m nao e divisivel por n, resto = ', y)\n",
    "    print('n/m entre 0 e 1')"
   ]
  },
  {
   "cell_type": "markdown",
   "id": "110ccc4b",
   "metadata": {},
   "source": [
    "# 04 - Números primos\n",
    "Um número N é primo se e somente se é divisível por 1, -1, por N e por -N.\n",
    "\n",
    "Escreva um script que verifica se N é um número primo, verificando se N é divisível por todos os números de 1 a N-1. Você vai precisar usar alguma ferramenta de loop que você aprendeu para isto. No final, devolva uma mensagem no output indicando se o número é primo ou não."
   ]
  },
  {
   "cell_type": "code",
   "execution_count": 49,
   "id": "87513099",
   "metadata": {},
   "outputs": [
    {
     "name": "stdout",
     "output_type": "stream",
     "text": [
      "Insira o numero: 584\n",
      "584 nao e primo e seus divisores sao:  [-1, -584, 1, 2, 4, 8, 73, 146, 292, 584]\n"
     ]
    }
   ],
   "source": [
    "n= int(input('Insira o numero: '))\n",
    "lista_divisores=[-1, - n]\n",
    "x=1\n",
    "while x <= n:\n",
    "    if n%x == 0:\n",
    "        lista_divisores.append(x)\n",
    "    x+=1\n",
    "lista_divisores.sort()\n",
    "if len(lista_divisores) == 4:\n",
    "    print(n, 'e um numero primo e seus unicos divisores sao: ', lista_divisores )\n",
    "else:\n",
    "    print(n,'nao e primo e seus divisores sao: ', lista_divisores)\n",
    "    \n"
   ]
  },
  {
   "cell_type": "markdown",
   "id": "94c34a61",
   "metadata": {},
   "source": [
    "# 05 - Desafio\n",
    "O algorítmo do exercício anterior não é o mais eficiente. O que você pode fazer para deixá-lo mais eficiente? Ou seja, executar menos comparações, portanto consumir menos tempo.\n",
    "\n",
    "Será que precisamos correr o loop até o final sempre?\n",
    "Será que precisamos mesmo verificar todos os números?\n",
    "Será que precisamos ir até N-1?\n",
    "Essas perguntas levam ao tipo de pensamento voltado a deixar um algoritmo mais eficiente. Veja se você consegue melhorar o seu."
   ]
  },
  {
   "cell_type": "code",
   "execution_count": 156,
   "id": "a7ea0539",
   "metadata": {},
   "outputs": [
    {
     "name": "stdout",
     "output_type": "stream",
     "text": [
      "Insira o numero: 17\n",
      "17 e um numero primo e seus unicos divisores sao:  [-17, -1, 1, 17]\n"
     ]
    }
   ],
   "source": [
    "n= int(input('Insira o numero: '))\n",
    "lista_divisores=[-1, - n, n]\n",
    "x=1\n",
    "while x <= n/2:\n",
    "    if n%x == 0:\n",
    "        lista_divisores.append(x)\n",
    "    x+=1\n",
    "lista_divisores.sort()\n",
    "if len(lista_divisores) == 4:\n",
    "    print(n, 'e um numero primo e seus unicos divisores sao: ', lista_divisores )\n",
    "else:\n",
    "    print(n,'nao e primo e seus divisores sao: ', lista_divisores)\n",
    "    \n",
    "\n",
    "\n",
    "\n"
   ]
  },
  {
   "cell_type": "code",
   "execution_count": null,
   "id": "ed95dd80",
   "metadata": {},
   "outputs": [],
   "source": [
    "n= int(input('Insira o numero: '))\n",
    "lista_divisores=[-1, - n, 1, n]\n",
    "x=1\n",
    "y=3\n",
    "while x<=n/2 and y<=n/2:\n",
    "    if n%x == 0 and n%y == 0:\n",
    "        lista_divisores.append(x)\n",
    "        lista_divisores.append(y)\n",
    "    elif n%y == 0 :\n",
    "        lista_divisores.append(y)\n",
    "    \n",
    "    y+=1\n",
    "    x+=1\n",
    "lista_divisores=set(lista_divisores)\n",
    "lista_divisores=list(lista_divisores)\n",
    "lista_divisores.sort() \n",
    "print(lista_divisores)    \n",
    "\n"
   ]
  },
  {
   "cell_type": "code",
   "execution_count": 274,
   "id": "087975f8",
   "metadata": {},
   "outputs": [
    {
     "name": "stdout",
     "output_type": "stream",
     "text": [
      "Insira o numero: 14\n",
      "[-14, -1, 1, 2, 7, 14]\n"
     ]
    }
   ],
   "source": [
    "n= int(input('Insira o numero: '))\n",
    "lista_divisores=[-1, - n, n]\n",
    "for i in range (1, n):\n",
    "    if n%i == 0:\n",
    "        lista_divisores.append(i)\n",
    "\n",
    "lista_divisores.sort()\n",
    "print(lista_divisores)\n",
    "#se a lista possuir somente 4 valores o numero e primo"
   ]
  },
  {
   "cell_type": "markdown",
   "id": "650faf6a",
   "metadata": {},
   "source": [
    "# 06 - Peso ideal 1\n",
    "O IMC (índice de massa corpórea) é um indicador de saúde mais bem aceito que o peso. Ele é calculado como:\n",
    "\n",
    "𝐼𝑀𝐶=𝑝𝑒𝑠𝑜/𝑎𝑙𝑡𝑢𝑟𝑎**2\n",
    " \n",
    "Segundo a OMS, valores normais são entre 18.5 e 24.9.\n",
    "\n",
    "Sua tarefa é encontrar o ponto médio dessa faixa."
   ]
  },
  {
   "cell_type": "code",
   "execution_count": 191,
   "id": "a115753e",
   "metadata": {},
   "outputs": [
    {
     "name": "stdout",
     "output_type": "stream",
     "text": [
      "21.7\n"
     ]
    }
   ],
   "source": [
    "IMC=(18.5+24.9)/2\n",
    "print(IMC)"
   ]
  },
  {
   "cell_type": "markdown",
   "id": "3ddfeb4d",
   "metadata": {},
   "source": [
    "# 07 - Peso ideal 2\n",
    "Recebendo um valor de altura, encontre o peso 'ideal' dessa pessoa, que fornece o IMC encontrado acima"
   ]
  },
  {
   "cell_type": "code",
   "execution_count": 204,
   "id": "93dbe6cb",
   "metadata": {},
   "outputs": [
    {
     "name": "stdout",
     "output_type": "stream",
     "text": [
      "Insira sua altura(em metros): 1.95\n",
      "Peso ideal: 82.51424999999999\n"
     ]
    }
   ],
   "source": [
    "altura=float(input(\"Insira sua altura(em metros): \"))\n",
    "peso=IMC*altura**2\n",
    "print('Peso ideal:', peso)"
   ]
  },
  {
   "cell_type": "markdown",
   "id": "f19a71d6",
   "metadata": {},
   "source": [
    "# 08 - Peso ideal 3\n",
    "Dada uma lista contendo as alturas de pacientes, crie uma nova lista que contenha o peso 'ideal' (que fornece o IMC calculado em Peso ideal 1) desses pacientes."
   ]
  },
  {
   "cell_type": "code",
   "execution_count": 214,
   "id": "bab2ad6c",
   "metadata": {},
   "outputs": [
    {
     "data": {
      "text/plain": [
       "[82.51424999999999, 91.19425, 62.712999999999994, 59.07824999999999]"
      ]
     },
     "execution_count": 214,
     "metadata": {},
     "output_type": "execute_result"
    }
   ],
   "source": [
    "lista_alturas = [1.95, 2.05, 1.70, 1.65]\n",
    "lista_peso_ideal = []\n",
    "for i in range (0, len(lista_alturas)):\n",
    "    peso=IMC*(lista_alturas[i])**2\n",
    "    lista_peso_ideal.append(peso)\n",
    "    i+=1\n",
    "lista_peso_ideal\n",
    "\n",
    "    \n",
    "\n"
   ]
  },
  {
   "cell_type": "markdown",
   "id": "5fadd065",
   "metadata": {},
   "source": [
    "# 09 - Peso ideal 4\n",
    "Dada uma lista de tuplas - cada elemento da lista é uma tupla contendo altura e peso de um paciente - crie uma nova lista com o IMC desses pacientes."
   ]
  },
  {
   "cell_type": "code",
   "execution_count": 273,
   "id": "c7d1b00f",
   "metadata": {},
   "outputs": [
    {
     "name": "stdout",
     "output_type": "stream",
     "text": [
      "Pesos:  [90, 75, 70] ; Alturas:  [1.8, 1.65, 1.91]\n",
      "IMC:  [27.777777777777775, 27.548209366391188, 19.188070502453332]\n"
     ]
    }
   ],
   "source": [
    "altura_peso = [(1.80, 90), (1.65, 75), (1.91, 70)]\n",
    "alturas=[]\n",
    "peso=[]\n",
    "IMC=[]\n",
    "for i in range (0, len(altura_peso)):\n",
    "    alturas.append(altura_peso[i][0])\n",
    "    peso.append(altura_peso[i][1])\n",
    "for i in range (0, len(peso)):\n",
    "    imc=peso[i]/(altura[i])**2\n",
    "    IMC.append(imc)\n",
    "print('Pesos: ' , peso,';','Alturas: ', alturas)\n",
    "print('IMC: ', IMC)"
   ]
  },
  {
   "cell_type": "markdown",
   "id": "d8fb58de",
   "metadata": {},
   "source": [
    "# 10 - Peso ideal 5\n",
    "Dada uma lista de listas - cada elemento da lista é uma lista contendo altura e peso de um paciente, adicione mais um elemento à lista de cada paciente contendo o IMC do paciente. Verifique também se é 'baixo', 'normal' ou 'alto' segundo os padrões da OMS em que normal é entre 18.5 e 24.9.\n",
    "\n",
    "Reflexão: por que no problema anterior temos que criar uma nova lista, e não podemos adicionar os dados de cada indivíduo à tupla?"
   ]
  },
  {
   "cell_type": "code",
   "execution_count": 288,
   "id": "50971e8a",
   "metadata": {
    "scrolled": true
   },
   "outputs": [
    {
     "data": {
      "text/plain": [
       "[[1.8, 90, 27.777777777777775, 'alto'],\n",
       " [1.65, 75, 27.548209366391188, 'alto'],\n",
       " [1.91, 70, 19.188070502453332, 'normal'],\n",
       " [1.54, 63, 26.564344746162927, 'alto'],\n",
       " [2.07, 99, 23.104389834068474, 'normal']]"
      ]
     },
     "execution_count": 288,
     "metadata": {},
     "output_type": "execute_result"
    }
   ],
   "source": [
    "altura_peso = [[1.80, 90], [1.65, 75], [1.91, 70],[1.54, 63],[2.07, 99]]\n",
    "\n",
    "for i in range (0, len(altura_peso)):\n",
    "    imc=altura_peso[i][1]/(altura_peso[i][0])**2\n",
    "    altura_peso[i].append(imc)\n",
    "    if altura_peso[i][2] >= 18.5 and altura_peso[i][2] <= 24.9:\n",
    "        altura_peso[i].append('normal')\n",
    "    elif altura_peso[i][2]>24.9:\n",
    "        altura_peso[i].append('alto')\n",
    "    else:\n",
    "        altura_peso[i].append('baixo')\n",
    "\n",
    "altura_peso"
   ]
  },
  {
   "cell_type": "code",
   "execution_count": null,
   "id": "55df0591",
   "metadata": {},
   "outputs": [],
   "source": []
  }
 ],
 "metadata": {
  "kernelspec": {
   "display_name": "Python 3",
   "language": "python",
   "name": "python3"
  },
  "language_info": {
   "codemirror_mode": {
    "name": "ipython",
    "version": 3
   },
   "file_extension": ".py",
   "mimetype": "text/x-python",
   "name": "python",
   "nbconvert_exporter": "python",
   "pygments_lexer": "ipython3",
   "version": "3.8.8"
  }
 },
 "nbformat": 4,
 "nbformat_minor": 5
}
