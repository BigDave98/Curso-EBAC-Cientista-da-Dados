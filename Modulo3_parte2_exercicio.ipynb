{
 "cells": [
  {
   "cell_type": "code",
   "execution_count": 2,
   "id": "3b9854b7",
   "metadata": {},
   "outputs": [],
   "source": [
    "import numpy as np"
   ]
  },
  {
   "cell_type": "markdown",
   "id": "8818264a",
   "metadata": {},
   "source": [
    "# 1) Alturas\n",
    "i. No trecho de código abaixo, crie um ndarray chamado altura_em_centimetros transformando a lista lista_de_alturas em um ndarray do numpy com a função np.array()\n",
    "\n",
    "ii. Crie um outro objeto altura em metros, com os valores de altura_em_centimetros convertidos para metros."
   ]
  },
  {
   "cell_type": "code",
   "execution_count": 20,
   "id": "4a797c8f",
   "metadata": {},
   "outputs": [
    {
     "data": {
      "text/plain": [
       "array([170, 175, 180, 185, 190])"
      ]
     },
     "execution_count": 20,
     "metadata": {},
     "output_type": "execute_result"
    }
   ],
   "source": [
    "#i:\n",
    "\n",
    "lista_de_alturas = np.array((range(170, 191, 5)))\n",
    "altura_em_centimetros = lista_de_alturas\n",
    "altura_em_centimetros\n"
   ]
  },
  {
   "cell_type": "code",
   "execution_count": 21,
   "id": "f9a97177",
   "metadata": {},
   "outputs": [
    {
     "data": {
      "text/plain": [
       "array([1.7 , 1.75, 1.8 , 1.85, 1.9 ])"
      ]
     },
     "execution_count": 21,
     "metadata": {},
     "output_type": "execute_result"
    }
   ],
   "source": [
    "#ii:\n",
    "\n",
    "altura_em_metros=altura_em_centimetros/100\n",
    "altura_em_metros"
   ]
  },
  {
   "cell_type": "markdown",
   "id": "78711958",
   "metadata": {},
   "source": [
    "# 2) IMC\n",
    "i. Considere que pesos em Kg dessas pessoas, na mesma ordem, estão na lista pesos lista_pesos = [70, 75, 80, 85]. Crie um ndarray chamado pesos com a função np.array() que contenha esses valores.\n",
    "\n",
    "ii. Utilizando o objeto que contém as alturas em metros e esse objeto que contém os respectivos pesos em quilos, calcule o IMC desses indivíduos utilizando a aritmética de arrays e guarde os resultados em um objeto chamado imc."
   ]
  },
  {
   "cell_type": "code",
   "execution_count": 38,
   "id": "9c608ef7",
   "metadata": {},
   "outputs": [
    {
     "data": {
      "text/plain": [
       "array([24.22145329, 24.48979592, 24.69135802, 24.83564646])"
      ]
     },
     "execution_count": 38,
     "metadata": {},
     "output_type": "execute_result"
    }
   ],
   "source": [
    "from numpy import *\n",
    "pesos=np.array((range(70, 90, 5)))\n",
    "pesos\n",
    "lista_imc=[]\n",
    "\n",
    "for i in range (len(pesos)):\n",
    "    imc = pesos[i]/(altura_em_metros[i]*altura_em_metros[i])\n",
    "    lista_imc.append(imc)\n",
    "\n",
    "array_imc= np.array(lista_imc)\n",
    "array_imc"
   ]
  },
  {
   "cell_type": "markdown",
   "id": "3ca35898",
   "metadata": {},
   "source": [
    "### 3) Endividamento\n",
    "\n",
    "Cálculos de novas variáveis como endividamento total e comprometimento de renda são essenciais para a construção de modelos financeiros em ciência de dados. Áreas não financeiras terão cálculos semelhantes também. Vamos praticar:\n",
    "\n",
    "Considere que o seguinte ndarray contém os dados de 4 pessoas, total a ser pago a empréstimos mensalmente e renda familiar:\n",
    "\n",
    "| custo fixo | dívida financeira | renda familiar |\n",
    "|:----:|:----:|:---|\n",
    "| 3000  | 1000 | 6000 |\n",
    "| 2500  | 2500 | 5500 |\n",
    "| 1000  | 3000 | 7000 |\n",
    "| 10000 | 5000 | 16000 |\n",
    "\n",
    "i. Transforme a lista de listas ```dados_financeiros``` no ndarray ```nd_financeiros```.\n",
    "> ``` dados_financeiros[[3000, 2500, 1000, 10000],[1000, 2500, 3000, 5000],[6000, 5500, 7000, 16000]] ```\n",
    "\n",
    "ii. Utilize o método ```.transpose ``` e certifique-se de que esse ndarray tenha uma linha por indivíduo e uma coluna por informação. Utilizando a indexação do numpy, imprima no output a segunda linha do array, depois a segunda coluna.\n",
    "\n",
    "iii. Pratique aritmética com ndarrays e calcule o endividamento total como:\n",
    "$$endividamento\\hspace{.2cm}total = \\frac{custo \\hspace{.2cm}fixo + dívida\\hspace{.2cm}financeira}{renda\\hspace{.2cm}familiar}$$\n",
    "Guarde os resultados em uma variável chamada ```endividamento_total``` e verifique os resultados imprimindo o conteúdo dessa variável no output.\n",
    "\n",
    "iv. Considere que há um erro de digitação que precisa ser corrigido: 3o indivíduo na verdade não possui renda familiar de R\\\\$7.000,00, mas sim R\\\\$ 10.000,00. Corrija esse valor e refaça os cálculos."
   ]
  },
  {
   "cell_type": "code",
   "execution_count": 147,
   "id": "3bd9d717",
   "metadata": {},
   "outputs": [
    {
     "data": {
      "text/plain": [
       "array([[ 3000,  2500,  1000, 10000],\n",
       "       [ 1000,  2500,  3000,  5000],\n",
       "       [ 6000,  5500,  7000, 16000]])"
      ]
     },
     "execution_count": 147,
     "metadata": {},
     "output_type": "execute_result"
    }
   ],
   "source": [
    "#i:\n",
    "\n",
    "dados_financeiros = [[3000, 2500, 1000, 10000],[1000, 2500, 3000, 5000],[6000, 5500, 7000, 16000]]\n",
    "nd_financeiros = np.array(dados_financeiros)\n",
    "nd_financeiros\n",
    "\n",
    "\n"
   ]
  },
  {
   "cell_type": "code",
   "execution_count": 148,
   "id": "b6b09cda",
   "metadata": {},
   "outputs": [
    {
     "name": "stdout",
     "output_type": "stream",
     "text": [
      "[[ 3000  2500  1000 10000]\n",
      " [ 1000  2500  3000  5000]\n",
      " [ 6000  5500  7000 16000]]\n"
     ]
    }
   ],
   "source": [
    "#ii:\n",
    "\n",
    "nd_financeiros.transpose()\n",
    "print(nd_financeiros)\n"
   ]
  },
  {
   "cell_type": "code",
   "execution_count": 149,
   "id": "136fddf7",
   "metadata": {},
   "outputs": [
    {
     "name": "stdout",
     "output_type": "stream",
     "text": [
      "0.6666666666666666\n",
      "0.9090909090909091\n",
      "0.5714285714285714\n",
      "0.9375\n"
     ]
    }
   ],
   "source": [
    "#iii:\n",
    "\n",
    "for i in range(0, len(nd_financeiros)):\n",
    "    custo_fixo = nd_financeiros[0]\n",
    "    divida_financeira = nd_financeiros[i-1]\n",
    "    renda_familiar = nd_financeiros[i]\n",
    "\n",
    "def endividamento(custo_fixo, divida_financeira, renda_familiar):\n",
    "    for x in range(len(custo_fixo),): \n",
    "        endividamento_total = (custo_fixo[x] + divida_financeira[x])/renda_familiar[x]\n",
    "        print(endividamento_total)\n",
    "    \n",
    "endividamento(custo_fixo, divida_financeira, renda_familiar) \n"
   ]
  },
  {
   "cell_type": "code",
   "execution_count": 151,
   "id": "a4916536",
   "metadata": {},
   "outputs": [
    {
     "name": "stdout",
     "output_type": "stream",
     "text": [
      "0.6666666666666666\n",
      "0.9090909090909091\n",
      "0.4\n",
      "0.9375\n"
     ]
    }
   ],
   "source": [
    "#iv:\n",
    "\n",
    "renda_familiar[2]=10000\n",
    "endividamento(custo_fixo, divida_financeira, renda_familiar) "
   ]
  },
  {
   "cell_type": "markdown",
   "id": "a66033fa",
   "metadata": {},
   "source": [
    "4) É muito comum precisarmos identificar valores especiais e darmos tratamento a eles quer seja alterando-os quer seja descartando-os.\n",
    "O trecho de código abaixo gera um ndarray com números pseudo aleatórios. Considere que para efeitos do estudo que virá, devemos desconsiderar valores iguais a zero. Sendo assim:\n",
    "\n",
    "i) crie um objeto bool_zero que traga uma sequencia de booleanos do mesmo tamanho que o objeto poi, e que vale True quando o valor de poi é zero, e False caso contrário.\n",
    "\n",
    "ii) Conte quantos valores zero existem. Lembre-se de que no final das contas, True vale 1 para o Python, e False vale zero, então uma boa dica seria usar a função sum().\n",
    "\n",
    "iii) Utilize a indexação booleana que você aprendeu para criar uma variável poi_nao_zero que aponta para os elementos de poi diferentes de zero. Dica: você vai pode inverter os elementos do objeto que criou em ii) ou escrever a comparação adequada."
   ]
  },
  {
   "cell_type": "code",
   "execution_count": 200,
   "id": "7edd410c",
   "metadata": {},
   "outputs": [
    {
     "name": "stdout",
     "output_type": "stream",
     "text": [
      "[False, False, False, False, False, False, False, False, False, True, False, False, False, False, False, False, False, False, True, False, False, False, False, False, True, False, False, False, False, False, False, False, False, False, False, False, False, False, False, False, False, False, False, False, False, False, False, False, False, False, False, False, False, False, False, False, True, False, False, False, False, False, False, False, False, False, False, False, False, False, False, False, False, False, False, False, False, False, False, False, False, False, True, False, False, True, False, False, False, False, False, False, False, False, False, False, False, False, False, False]\n"
     ]
    }
   ],
   "source": [
    "#i:\n",
    "\n",
    "np.random.seed(1234)\n",
    "poi = np.random.poisson(3, 100)\n",
    "poi\n",
    "bool_zero = []\n",
    "\n",
    "for i in range(len(poi)):\n",
    "    \n",
    "    if poi[i] == 0:\n",
    "        resp = True\n",
    "        bool_zero.append(resp)\n",
    "    \n",
    "    else:\n",
    "        resp = False\n",
    "        bool_zero.append(resp)\n",
    "\n",
    "print(bool_zero)\n",
    "\n",
    "\n"
   ]
  },
  {
   "cell_type": "code",
   "execution_count": 201,
   "id": "41deaef9",
   "metadata": {},
   "outputs": [
    {
     "data": {
      "text/plain": [
       "6"
      ]
     },
     "execution_count": 201,
     "metadata": {},
     "output_type": "execute_result"
    }
   ],
   "source": [
    "#ii:\n",
    "\n",
    "sum(bool_zero)"
   ]
  },
  {
   "cell_type": "code",
   "execution_count": 229,
   "id": "3e88bec7",
   "metadata": {},
   "outputs": [],
   "source": [
    "#iii:\n",
    "\n",
    "#nao entendi esse comando poi=[~bool_zero], por favor me explique se possivel\n",
    "    "
   ]
  },
  {
   "cell_type": "code",
   "execution_count": null,
   "id": "0c51fdcf",
   "metadata": {},
   "outputs": [],
   "source": []
  }
 ],
 "metadata": {
  "kernelspec": {
   "display_name": "Python 3",
   "language": "python",
   "name": "python3"
  },
  "language_info": {
   "codemirror_mode": {
    "name": "ipython",
    "version": 3
   },
   "file_extension": ".py",
   "mimetype": "text/x-python",
   "name": "python",
   "nbconvert_exporter": "python",
   "pygments_lexer": "ipython3",
   "version": "3.8.8"
  }
 },
 "nbformat": 4,
 "nbformat_minor": 5
}
